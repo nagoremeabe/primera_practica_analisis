{
 "cells": [
  {
   "cell_type": "code",
   "execution_count": 1,
   "metadata": {},
   "outputs": [],
   "source": [
    "# Librerías necesarias para realizar la práctica\n",
    "# -----------------------------------------------------\n",
    "# Manipulación y lectura de datos\n",
    "import netCDF4 as nc\n",
    "import pandas as pd\n",
    "import numpy as np\n",
    "from datetime import timedelta,datetime\n",
    "\n",
    "# Estadistica\n",
    "from scipy import stats\n",
    "\n",
    "# Visualización de datos\n",
    "import matplotlib.pyplot as plt\n",
    "import seaborn as sns\n",
    "sns.set_style('whitegrid')\n",
    "\n",
    "import math\n",
    "import warnings\n",
    "warnings.filterwarnings('ignore')"
   ]
  },
  {
   "cell_type": "code",
   "execution_count": null,
   "metadata": {},
   "outputs": [],
   "source": [
    "# Aquí voy a guardar cosas utiles que he aprendido en el ejercicio 1 pero que para la entrega no son necesarias"
   ]
  },
  {
   "cell_type": "markdown",
   "metadata": {},
   "source": [
    "<span style='color:black'>The t-test quantifies the difference between the arithmetic means of the two samples. The p-value quantifies the probability of observing as or more extreme values assuming the null hypothesis, that the samples are drawn from populations with the same population means, is true. A p-value larger than a chosen threshold (e.g. 5% or 1%) indicates that our observation is not so unlikely to have occurred by chance. Therefore, we do not reject the null hypothesis of equal population means. If the p-value is smaller than our threshold, then we have evidence against the null hypothesis of equal population means.</span>"
   ]
  },
  {
   "cell_type": "code",
   "execution_count": null,
   "metadata": {},
   "outputs": [],
   "source": [
    "# Contraste de hipotesis\n",
    "# Tengo que hace un t test y p test\n",
    "stats.ttest_ind(std_enero_first, std_enero_last)\n",
    "\n",
    "from statsmodels.stats.weightstats import ztest as ztest\n",
    "ztest(mean_enero_first, mean_enero_last)"
   ]
  },
  {
   "cell_type": "code",
   "execution_count": null,
   "metadata": {},
   "outputs": [],
   "source": [
    "sns.set_theme(rc={'figure.figsize':(15,6)})\n",
    "sns.boxplot(data=df_1, boxprops={\"facecolor\": \"None\", \"edgecolor\": sns.color_palette(\"Paired\")[1],\n",
    "                          \"linewidth\": 0.5},\n",
    "            medianprops={'color':sns.color_palette(\"Set2\")[0]},\n",
    "            whiskerprops={'color':sns.color_palette(\"Paired\")[1]})\n",
    "\n",
    "sns.stripplot(data=df_1, color=sns.color_palette(\"Paired\")[1],alpha=0.3, size=1.5)"
   ]
  },
  {
   "cell_type": "markdown",
   "metadata": {},
   "source": [
    "#### Boxplot CDC"
   ]
  },
  {
   "cell_type": "code",
   "execution_count": null,
   "metadata": {},
   "outputs": [],
   "source": [
    "sns.boxplot(data=df_1, boxprops={\"facecolor\": \"None\", \"edgecolor\": sns.color_palette(\"Paired\")[1],\n",
    "                          \"linewidth\": 0.5},\n",
    "            medianprops={'color':sns.color_palette(\"Set2\")[0]},\n",
    "            whiskerprops={'color':sns.color_palette(\"Paired\")[1]})\n",
    "\n",
    "sns.stripplot(data=df_1, color=sns.color_palette(\"Paired\")[1],alpha=0.3, size=1.5)"
   ]
  }
 ],
 "metadata": {
  "kernelspec": {
   "display_name": "Python 3.9.7 ('base')",
   "language": "python",
   "name": "python3"
  },
  "language_info": {
   "codemirror_mode": {
    "name": "ipython",
    "version": 3
   },
   "file_extension": ".py",
   "mimetype": "text/x-python",
   "name": "python",
   "nbconvert_exporter": "python",
   "pygments_lexer": "ipython3",
   "version": "3.9.7"
  },
  "orig_nbformat": 4,
  "vscode": {
   "interpreter": {
    "hash": "9553dd649da6d806a91f18686597ba4591a31002d4fb1d1d65e2efff2034f7ad"
   }
  }
 },
 "nbformat": 4,
 "nbformat_minor": 2
}
