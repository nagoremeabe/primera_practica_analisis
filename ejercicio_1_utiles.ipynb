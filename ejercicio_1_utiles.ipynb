{
 "cells": [
  {
   "cell_type": "code",
   "execution_count": 1,
   "metadata": {},
   "outputs": [],
   "source": [
    "# Librerías necesarias para realizar la práctica\n",
    "# -----------------------------------------------------\n",
    "# Manipulación y lectura de datos\n",
    "import netCDF4 as nc\n",
    "import pandas as pd\n",
    "import numpy as np\n",
    "from datetime import timedelta,datetime\n",
    "\n",
    "# Estadistica\n",
    "from scipy import stats\n",
    "\n",
    "# Visualización de datos\n",
    "import matplotlib.pyplot as plt\n",
    "import seaborn as sns\n",
    "sns.set_style('whitegrid')\n",
    "\n",
    "import math\n",
    "import warnings\n",
    "warnings.filterwarnings('ignore')"
   ]
  },
  {
   "cell_type": "code",
   "execution_count": null,
   "metadata": {},
   "outputs": [],
   "source": [
    "# Aquí voy a guardar cosas utiles que he aprendido en el ejercicio 1 pero que para la entrega no son necesarias"
   ]
  },
  {
   "cell_type": "markdown",
   "metadata": {},
   "source": [
    "<span style='color:black'>The t-test quantifies the difference between the arithmetic means of the two samples. The p-value quantifies the probability of observing as or more extreme values assuming the null hypothesis, that the samples are drawn from populations with the same population means, is true. A p-value larger than a chosen threshold (e.g. 5% or 1%) indicates that our observation is not so unlikely to have occurred by chance. Therefore, we do not reject the null hypothesis of equal population means. If the p-value is smaller than our threshold, then we have evidence against the null hypothesis of equal population means.</span>"
   ]
  },
  {
   "cell_type": "code",
   "execution_count": null,
   "metadata": {},
   "outputs": [],
   "source": [
    "# Contraste de hipotesis\n",
    "# Tengo que hace un t test y p test\n",
    "stats.ttest_ind(std_enero_first, std_enero_last)\n",
    "\n",
    "from statsmodels.stats.weightstats import ztest as ztest\n",
    "ztest(mean_enero_first, mean_enero_last)"
   ]
  },
  {
   "cell_type": "code",
   "execution_count": null,
   "metadata": {},
   "outputs": [],
   "source": [
    "sns.set_theme(rc={'figure.figsize':(15,6)})\n",
    "sns.boxplot(data=df_1, boxprops={\"facecolor\": \"None\", \"edgecolor\": sns.color_palette(\"Paired\")[1],\n",
    "                          \"linewidth\": 0.5},\n",
    "            medianprops={'color':sns.color_palette(\"Set2\")[0]},\n",
    "            whiskerprops={'color':sns.color_palette(\"Paired\")[1]})\n",
    "\n",
    "sns.stripplot(data=df_1, color=sns.color_palette(\"Paired\")[1],alpha=0.3, size=1.5)"
   ]
  },
  {
   "cell_type": "markdown",
   "metadata": {},
   "source": [
    "#### Boxplot CDC"
   ]
  },
  {
   "cell_type": "code",
   "execution_count": null,
   "metadata": {},
   "outputs": [],
   "source": [
    "sns.boxplot(data=df_1, boxprops={\"facecolor\": \"None\", \"edgecolor\": sns.color_palette(\"Paired\")[1],\n",
    "                          \"linewidth\": 0.5},\n",
    "            medianprops={'color':sns.color_palette(\"Set2\")[0]},\n",
    "            whiskerprops={'color':sns.color_palette(\"Paired\")[1]})\n",
    "\n",
    "sns.stripplot(data=df_1, color=sns.color_palette(\"Paired\")[1],alpha=0.3, size=1.5)"
   ]
  },
  {
   "cell_type": "markdown",
   "metadata": {},
   "source": [
    "## Surface temp data"
   ]
  },
  {
   "cell_type": "code",
   "execution_count": null,
   "metadata": {},
   "outputs": [],
   "source": [
    "# Lectura de los datos \n",
    "folder = 'HadISST1'\n",
    "\n",
    "data = nc.Dataset(f'data/{folder}/HadISST1_sst_1870-2019.nc')\n",
    "lon = data.variables['longitude'][:] # data.variables.keys[0]\n",
    "lat = data.variables['latitude'][:]  # data.variables.keys[1]\n",
    "\n",
    "# Mirar los bounds: optional\n",
    "# print(data.variables['lat_bnds'][:],data.variables['lon_bnds'][:])\n",
    "\n",
    "# Datos de precipitación\n",
    "precip = data.variables['sst'][:] # data.variables.keys[-1]\n",
    "\n",
    "# Datos de tiempo: units: days since 1800-01-01 00:00:00\n",
    "fecha = data.variables['time'][:]\n",
    "\n",
    "# Convert ddata\n",
    "dates = []\n",
    "\n",
    "for data_indays in fecha:\n",
    "    specific_data = datetime(1870,1,1,0,0,0)\n",
    "    new_date = specific_data + timedelta(days=int(data_indays))\n",
    "    dates.append(new_date)\n",
    "    \n",
    "# data.variables['precip'].shape = (time = 12 datos, lat = 72 datos, \n",
    "#                                   lon = 144 datos)"
   ]
  },
  {
   "cell_type": "markdown",
   "metadata": {},
   "source": [
    "## Una grafica"
   ]
  },
  {
   "cell_type": "code",
   "execution_count": 6,
   "metadata": {},
   "outputs": [],
   "source": [
    "import xarray as xr\n",
    "import pandas as pd\n",
    "\n",
    "folder = 'HadISST1'\n",
    "ds=xr.open_dataset(f'data/{folder}/HadISST1_sst_1870-2019.nc')\n",
    "month_length = ds.time.dt.days_in_month\n",
    "month_length\n",
    "\n",
    "Attributes: (0)\n",
    "# Calculate the weights by grouping by 'time.season'.\n",
    "weights = (\n",
    "    month_length.groupby(\"time.season\") / month_length.groupby(\"time.season\").sum()\n",
    ")\n",
    "\n",
    "\n",
    "# Calculate the weighted average\n",
    "ds_weighted = (ds * weights).groupby(\"time.season\").sum(dim=\"time\")\n"
   ]
  },
  {
   "cell_type": "code",
   "execution_count": 7,
   "metadata": {},
   "outputs": [],
   "source": [
    "ds_unweighted = ds.groupby(\"time.season\").mean(\"time\")\n",
    "ds_diff = ds_weighted - ds_unweighted"
   ]
  },
  {
   "cell_type": "code",
   "execution_count": 8,
   "metadata": {},
   "outputs": [
    {
     "ename": "NameError",
     "evalue": "name 'plt' is not defined",
     "output_type": "error",
     "traceback": [
      "\u001b[1;31m---------------------------------------------------------------------------\u001b[0m",
      "\u001b[1;31mNameError\u001b[0m                                 Traceback (most recent call last)",
      "\u001b[1;32m~\\AppData\\Local\\Temp/ipykernel_11556/993984988.py\u001b[0m in \u001b[0;36m<module>\u001b[1;34m\u001b[0m\n\u001b[0;32m      2\u001b[0m \u001b[0mnotnull\u001b[0m \u001b[1;33m=\u001b[0m \u001b[0mpd\u001b[0m\u001b[1;33m.\u001b[0m\u001b[0mnotnull\u001b[0m\u001b[1;33m(\u001b[0m\u001b[0mds_unweighted\u001b[0m\u001b[1;33m[\u001b[0m\u001b[1;34m\"sst\"\u001b[0m\u001b[1;33m]\u001b[0m\u001b[1;33m[\u001b[0m\u001b[1;36m0\u001b[0m\u001b[1;33m]\u001b[0m\u001b[1;33m)\u001b[0m\u001b[1;33m\u001b[0m\u001b[1;33m\u001b[0m\u001b[0m\n\u001b[0;32m      3\u001b[0m \u001b[1;33m\u001b[0m\u001b[0m\n\u001b[1;32m----> 4\u001b[1;33m \u001b[0mfig\u001b[0m\u001b[1;33m,\u001b[0m \u001b[0maxes\u001b[0m \u001b[1;33m=\u001b[0m \u001b[0mplt\u001b[0m\u001b[1;33m.\u001b[0m\u001b[0msubplots\u001b[0m\u001b[1;33m(\u001b[0m\u001b[0mnrows\u001b[0m\u001b[1;33m=\u001b[0m\u001b[1;36m3\u001b[0m\u001b[1;33m,\u001b[0m \u001b[0mncols\u001b[0m\u001b[1;33m=\u001b[0m\u001b[1;36m2\u001b[0m\u001b[1;33m,\u001b[0m \u001b[0mfigsize\u001b[0m\u001b[1;33m=\u001b[0m\u001b[1;33m(\u001b[0m\u001b[1;36m20\u001b[0m\u001b[1;33m,\u001b[0m \u001b[1;36m8\u001b[0m\u001b[1;33m)\u001b[0m\u001b[1;33m)\u001b[0m\u001b[1;33m\u001b[0m\u001b[1;33m\u001b[0m\u001b[0m\n\u001b[0m\u001b[0;32m      5\u001b[0m \u001b[1;32mfor\u001b[0m \u001b[0mi\u001b[0m\u001b[1;33m,\u001b[0m \u001b[0mseason\u001b[0m \u001b[1;32min\u001b[0m \u001b[0menumerate\u001b[0m\u001b[1;33m(\u001b[0m\u001b[1;33m(\u001b[0m\u001b[1;34m\"DJF\"\u001b[0m\u001b[1;33m,\u001b[0m\u001b[1;34m\"JJA\"\u001b[0m\u001b[1;33m)\u001b[0m\u001b[1;33m)\u001b[0m\u001b[1;33m:\u001b[0m\u001b[1;33m\u001b[0m\u001b[1;33m\u001b[0m\u001b[0m\n\u001b[0;32m      6\u001b[0m     ds_weighted[\"sst\"].sel(season=season).where(notnull).plot.pcolormesh(\n",
      "\u001b[1;31mNameError\u001b[0m: name 'plt' is not defined"
     ]
    }
   ],
   "source": [
    "# Quick plot to show the results\n",
    "notnull = pd.notnull(ds_unweighted[\"sst\"][0])\n",
    "\n",
    "fig, axes = plt.subplots(nrows=3, ncols=2, figsize=(20, 8))\n",
    "for i, season in enumerate((\"DJF\",\"JJA\")):\n",
    "    ds_weighted[\"sst\"].sel(season=season).where(notnull).plot.pcolormesh(\n",
    "        ax=axes[i, 0],\n",
    "        vmin=-30,\n",
    "        vmax=30,\n",
    "        cmap=\"Spectral_r\",\n",
    "        add_colorbar=True,\n",
    "        extend=\"both\",\n",
    "    )\n",
    "\n",
    "    ds_unweighted[\"sst\"].sel(season=season).where(notnull).plot.pcolormesh(\n",
    "        ax=axes[i, 1],\n",
    "        vmin=-30,\n",
    "        vmax=30,\n",
    "        cmap=\"Spectral_r\",\n",
    "        add_colorbar=True,\n",
    "        extend=\"both\",\n",
    "    )\n",
    "\n",
    "    ds_diff[\"sst\"].sel(season=season).where(notnull).plot.pcolormesh(\n",
    "        ax=axes[i, 2],\n",
    "        vmin=-0.1,\n",
    "        vmax=0.1,\n",
    "        cmap=\"RdBu_r\",\n",
    "        add_colorbar=True,\n",
    "        extend=\"both\",\n",
    "    )\n",
    "\n",
    "    axes[i, 0].set_ylabel(season)\n",
    "    axes[i, 1].set_ylabel(\"\")\n",
    "    axes[i, 2].set_ylabel(\"\")\n",
    "\n",
    "for ax in axes.flat:\n",
    "    ax.axes.get_xaxis().set_ticklabels([])\n",
    "    ax.axes.get_yaxis().set_ticklabels([])\n",
    "    ax.axes.axis(\"tight\")\n",
    "    ax.set_xlabel(\"\")\n",
    "\n",
    "axes[0, 0].set_title(\"Weighted by DPM\")\n",
    "axes[0, 1].set_title(\"Equal Weighting\")\n",
    "axes[0, 2].set_title(\"Difference\")\n",
    "\n",
    "plt.tight_layout()\n",
    "\n",
    "fig.suptitle('Seasonal Surface Air Temperature', fontsize=16, y=1.02)"
   ]
  },
  {
   "cell_type": "markdown",
   "metadata": {},
   "source": [
    "### WEB interesante"
   ]
  },
  {
   "cell_type": "markdown",
   "metadata": {},
   "source": [
    "http://meteo.unican.es/work/xarray_seminar/xArray_seminar.html"
   ]
  },
  {
   "cell_type": "markdown",
   "metadata": {},
   "source": []
  }
 ],
 "metadata": {
  "kernelspec": {
   "display_name": "Python 3.9.7 ('base')",
   "language": "python",
   "name": "python3"
  },
  "language_info": {
   "codemirror_mode": {
    "name": "ipython",
    "version": 3
   },
   "file_extension": ".py",
   "mimetype": "text/x-python",
   "name": "python",
   "nbconvert_exporter": "python",
   "pygments_lexer": "ipython3",
   "version": "3.9.7"
  },
  "orig_nbformat": 4,
  "vscode": {
   "interpreter": {
    "hash": "9553dd649da6d806a91f18686597ba4591a31002d4fb1d1d65e2efff2034f7ad"
   }
  }
 },
 "nbformat": 4,
 "nbformat_minor": 2
}
